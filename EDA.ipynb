{
 "cells": [
  {
   "cell_type": "code",
   "execution_count": 1,
   "id": "717767ed-a659-4c87-982e-fdf5a13138c4",
   "metadata": {},
   "outputs": [],
   "source": [
    "import numpy as np \n",
    "import pandas as pd \n",
    "from matplotlib import pyplot as plt\n",
    "import os\n",
    "import json\n",
    "import time\n",
    "from itertools import chain\n",
    "\n",
    "\n",
    "#!conda config --env --add channels conda-forge\n",
    "#!conda install numpy -y\n",
    "#!conda install pandas -y\n",
    "#!conda install matplotlib -y"
   ]
  },
  {
   "cell_type": "markdown",
   "id": "06feb108-c26d-4c3d-b1fe-93f8e5a5a8ba",
   "metadata": {},
   "source": [
    "-  Spotify Million Playlist Dataset Challenge https://www.aicrowd.com/challenges/spotify-million-playlist-dataset-challenge#dataset\n",
    "- How to Develop an End-to-End Machine Learning Project and Deploy it to Heroku with Flask https://www.freecodecamp.org/news/end-to-end-machine-learning-project-turorial/\n",
    "- A Full End-to-End Deployment of a Machine Learning Algorithm into a Live Production Environment https://towardsdatascience.com/a-full-end-to-end-deployment-of-a-machine-learning-algorithm-into-a-live-production-environment-3d9971ade188\n",
    "- Object Oriented Machine Learning — Create Production grade Machine Learning Pipeline using OOPs https://medium.com/analytics-vidhya/object-oriented-machine-learning-create-production-grade-machine-learning-pipeline-using-oops-50f3cfa14659"
   ]
  },
  {
   "cell_type": "code",
   "execution_count": null,
   "id": "d2cfb368-5db5-491d-9d3e-bbaeda53841f",
   "metadata": {},
   "outputs": [],
   "source": [
    "path = \"/home/maksim/Documents/ML/Datasets/Spotify_data/jsons/\"\n",
    "filenames = os.listdir(path)\n",
    "\n",
    "\n",
    "N = 10\n",
    "for j in range(N):\n",
    "    playlist_track = pd.DataFrame()\n",
    "    playlist = pd.DataFrame()\n",
    "    track = pd.DataFrame()\n",
    "    for filename in enumerate(filenames[1000//N * j:1000//N * (j+1)]):\n",
    "        fullpath = os.sep.join((path, filename[1]))\n",
    "        f = open(fullpath)\n",
    "        js = f.read()\n",
    "        f.close()\n",
    "        mpd_slice = json.loads(js)\n",
    "        playlist_temp = pd.DataFrame(mpd_slice['playlists'])\n",
    "        playlist_temp['tracks'] = pd.Series([[playlist_temp.tracks[j][i] | {'pid': playlist_temp.pid[j]} \n",
    "                                         for i in range(len(playlist_temp.tracks[j]))] \n",
    "                                        for j in range(len(playlist_temp))])\n",
    "        track_temp = pd.DataFrame(list(chain.from_iterable(playlist_temp['tracks'])))\n",
    "        playlist_track = pd.concat([playlist_track, track_temp[['pid','track_uri']]])\n",
    "        track = pd.concat([track, track_temp]).drop_duplicates('track_uri')\n",
    "        playlist = pd.concat([playlist, playlist_temp.drop(columns=['tracks'], axis = 1)])\n",
    "    playlist_track.to_csv('/home/maksim/Documents/ML/Datasets/Spotify_data/playlist_track_{}.csv'.format(j), encoding='utf-8', index=False)\n",
    "    playlist.to_csv('/home/maksim/Documents/ML/Datasets/Spotify_data/playlist_{}.csv'.format(j), encoding='utf-8', index=False)\n",
    "    track.to_csv('/home/maksim/Documents/ML/Datasets/Spotify_data/track_{}.csv'.format(j), encoding='utf-8', index=False)"
   ]
  },
  {
   "cell_type": "code",
   "execution_count": 6,
   "id": "ff1c5bb6-8b2b-4888-9d96-b358c6cce7b8",
   "metadata": {},
   "outputs": [],
   "source": [
    "df_playlist = pd.concat([pd.read_csv('/home/maksim/Documents/ML/Datasets/Spotify_data/playlist_{}.csv'.format(i)) for i in range(10)])\n",
    "df_track = pd.concat([pd.read_csv('/home/maksim/Documents/ML/Datasets/Spotify_data/track_{}.csv'.format(i)) for i in range(10)])\n",
    "df_playlist_track = pd.concat([pd.read_csv('/home/maksim/Documents/ML/Datasets/Spotify_data/playlist_track_{}.csv'.format(i)) for i in range(10)])"
   ]
  },
  {
   "cell_type": "code",
   "execution_count": 24,
   "id": "2809e425-84d0-4cfe-be89-427dbff06ba1",
   "metadata": {},
   "outputs": [],
   "source": [
    "df_track_unique = df_track.drop_duplicates('track_uri').drop('pid', axis=1)\n",
    "\n",
    "df_playlist.to_csv('/home/maksim/Documents/ML/Datasets/Spotify_data/playlist_track_full.csv', encoding='utf-8', index=False)\n",
    "df_track_unique.to_csv('/home/maksim/Documents/ML/Datasets/Spotify_data/playlist_full.csv', encoding='utf-8', index=False)\n",
    "df_playlist_track.to_csv('/home/maksim/Documents/ML/Datasets/Spotify_data/track_full.csv', encoding='utf-8', index=False)"
   ]
  },
  {
   "cell_type": "code",
   "execution_count": null,
   "id": "0ec93a08-de1c-40aa-9e20-0d9cbc2476d6",
   "metadata": {},
   "outputs": [],
   "source": []
  },
  {
   "cell_type": "code",
   "execution_count": 26,
   "id": "7a06ebd0-74f0-45c1-8e02-885735452033",
   "metadata": {},
   "outputs": [
    {
     "data": {
      "text/plain": [
       "1000"
      ]
     },
     "execution_count": 26,
     "metadata": {},
     "output_type": "execute_result"
    }
   ],
   "source": [
    "len(filenames)"
   ]
  },
  {
   "cell_type": "code",
   "execution_count": null,
   "id": "6a4730ff-c424-4d70-a92a-ba23cf6ac52a",
   "metadata": {},
   "outputs": [],
   "source": [
    "\"/home/maksim/Documents/ML/Datasets/Spotify_data/\""
   ]
  },
  {
   "cell_type": "code",
   "execution_count": null,
   "id": "175b6836-6697-4d45-9ead-8dc44e1287e3",
   "metadata": {},
   "outputs": [],
   "source": []
  },
  {
   "cell_type": "code",
   "execution_count": null,
   "id": "f275dc8a-afbe-42d8-9044-48af2e3776ec",
   "metadata": {},
   "outputs": [],
   "source": []
  },
  {
   "cell_type": "code",
   "execution_count": null,
   "id": "e1aba221-f8e2-44e0-8ebd-964644279537",
   "metadata": {},
   "outputs": [],
   "source": []
  },
  {
   "cell_type": "code",
   "execution_count": null,
   "id": "c1dade63-0cb5-4a84-8171-bba58f73abad",
   "metadata": {},
   "outputs": [],
   "source": []
  },
  {
   "cell_type": "code",
   "execution_count": null,
   "id": "2f860445-6cb9-46ec-89ad-49edae2f4730",
   "metadata": {},
   "outputs": [],
   "source": []
  },
  {
   "cell_type": "code",
   "execution_count": null,
   "id": "f655274a-d1dd-403d-9f8e-40835d774fce",
   "metadata": {},
   "outputs": [],
   "source": []
  }
 ],
 "metadata": {
  "kernelspec": {
   "display_name": "Python 3",
   "language": "python",
   "name": "python3"
  },
  "language_info": {
   "codemirror_mode": {
    "name": "ipython",
    "version": 3
   },
   "file_extension": ".py",
   "mimetype": "text/x-python",
   "name": "python",
   "nbconvert_exporter": "python",
   "pygments_lexer": "ipython3",
   "version": "3.10.4"
  }
 },
 "nbformat": 4,
 "nbformat_minor": 5
}
