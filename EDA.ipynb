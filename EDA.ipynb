{
 "cells": [
  {
   "cell_type": "code",
   "execution_count": 19,
   "id": "717767ed-a659-4c87-982e-fdf5a13138c4",
   "metadata": {},
   "outputs": [],
   "source": [
    "import numpy as np \n",
    "import pandas as pd \n",
    "from matplotlib import pyplot as plt\n",
    "\n",
    "#!conda config --env --add channels conda-forge\n",
    "#!conda install numpy -y\n",
    "#!conda install pandas -y\n",
    "#!conda install matplotlib -y"
   ]
  },
  {
   "cell_type": "markdown",
   "id": "06feb108-c26d-4c3d-b1fe-93f8e5a5a8ba",
   "metadata": {},
   "source": [
    "- How to Develop an End-to-End Machine Learning Project and Deploy it to Heroku with Flask https://www.freecodecamp.org/news/end-to-end-machine-learning-project-turorial/\n",
    "- A Full End-to-End Deployment of a Machine Learning Algorithm into a Live Production Environment https://towardsdatascience.com/a-full-end-to-end-deployment-of-a-machine-learning-algorithm-into-a-live-production-environment-3d9971ade188\n",
    "- Object Oriented Machine Learning — Create Production grade Machine Learning Pipeline using OOPs https://medium.com/analytics-vidhya/object-oriented-machine-learning-create-production-grade-machine-learning-pipeline-using-oops-50f3cfa14659\n",
    "\n"
   ]
  },
  {
   "cell_type": "code",
   "execution_count": null,
   "id": "cca24b60-f778-4749-85e4-7b719c7e39b4",
   "metadata": {},
   "outputs": [],
   "source": []
  },
  {
   "cell_type": "code",
   "execution_count": null,
   "id": "95a831f2-ce9e-4045-b0ca-84f00326ff7e",
   "metadata": {},
   "outputs": [],
   "source": []
  }
 ],
 "metadata": {
  "kernelspec": {
   "display_name": "Python 3",
   "language": "python",
   "name": "python3"
  },
  "language_info": {
   "codemirror_mode": {
    "name": "ipython",
    "version": 3
   },
   "file_extension": ".py",
   "mimetype": "text/x-python",
   "name": "python",
   "nbconvert_exporter": "python",
   "pygments_lexer": "ipython3",
   "version": "3.10.4"
  }
 },
 "nbformat": 4,
 "nbformat_minor": 5
}
